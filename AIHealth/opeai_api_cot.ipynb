{
 "cells": [
  {
   "cell_type": "code",
   "execution_count": 1,
   "metadata": {},
   "outputs": [
    {
     "name": "stdout",
     "output_type": "stream",
     "text": [
      "Requirement already satisfied: openai in c:\\users\\muhammadawais.naeem\\anaconda3\\envs\\deep_learning_general\\lib\\site-packages (1.12.0)\n",
      "Requirement already satisfied: anyio<5,>=3.5.0 in c:\\users\\muhammadawais.naeem\\anaconda3\\envs\\deep_learning_general\\lib\\site-packages (from openai) (4.2.0)\n",
      "Requirement already satisfied: distro<2,>=1.7.0 in c:\\users\\muhammadawais.naeem\\anaconda3\\envs\\deep_learning_general\\lib\\site-packages (from openai) (1.9.0)\n",
      "Requirement already satisfied: httpx<1,>=0.23.0 in c:\\users\\muhammadawais.naeem\\anaconda3\\envs\\deep_learning_general\\lib\\site-packages (from openai) (0.26.0)\n",
      "Requirement already satisfied: pydantic<3,>=1.9.0 in c:\\users\\muhammadawais.naeem\\anaconda3\\envs\\deep_learning_general\\lib\\site-packages (from openai) (2.6.1)\n",
      "Requirement already satisfied: sniffio in c:\\users\\muhammadawais.naeem\\anaconda3\\envs\\deep_learning_general\\lib\\site-packages (from openai) (1.3.0)\n",
      "Requirement already satisfied: tqdm>4 in c:\\users\\muhammadawais.naeem\\anaconda3\\envs\\deep_learning_general\\lib\\site-packages (from openai) (4.66.1)\n",
      "Requirement already satisfied: typing-extensions<5,>=4.7 in c:\\users\\muhammadawais.naeem\\anaconda3\\envs\\deep_learning_general\\lib\\site-packages (from openai) (4.8.0)\n",
      "Requirement already satisfied: idna>=2.8 in c:\\users\\muhammadawais.naeem\\anaconda3\\envs\\deep_learning_general\\lib\\site-packages (from anyio<5,>=3.5.0->openai) (3.4)\n",
      "Requirement already satisfied: certifi in c:\\users\\muhammadawais.naeem\\anaconda3\\envs\\deep_learning_general\\lib\\site-packages (from httpx<1,>=0.23.0->openai) (2023.11.17)\n",
      "Requirement already satisfied: httpcore==1.* in c:\\users\\muhammadawais.naeem\\anaconda3\\envs\\deep_learning_general\\lib\\site-packages (from httpx<1,>=0.23.0->openai) (1.0.3)\n",
      "Requirement already satisfied: h11<0.15,>=0.13 in c:\\users\\muhammadawais.naeem\\anaconda3\\envs\\deep_learning_general\\lib\\site-packages (from httpcore==1.*->httpx<1,>=0.23.0->openai) (0.14.0)\n",
      "Requirement already satisfied: annotated-types>=0.4.0 in c:\\users\\muhammadawais.naeem\\anaconda3\\envs\\deep_learning_general\\lib\\site-packages (from pydantic<3,>=1.9.0->openai) (0.6.0)\n",
      "Requirement already satisfied: pydantic-core==2.16.2 in c:\\users\\muhammadawais.naeem\\anaconda3\\envs\\deep_learning_general\\lib\\site-packages (from pydantic<3,>=1.9.0->openai) (2.16.2)\n",
      "Requirement already satisfied: colorama in c:\\users\\muhammadawais.naeem\\anaconda3\\envs\\deep_learning_general\\lib\\site-packages (from tqdm>4->openai) (0.4.6)\n"
     ]
    }
   ],
   "source": [
    "!pip install openai"
   ]
  },
  {
   "cell_type": "markdown",
   "metadata": {},
   "source": [
    "### Import \"openai\" and specify your API key"
   ]
  },
  {
   "cell_type": "code",
   "execution_count": 2,
   "metadata": {},
   "outputs": [],
   "source": [
    "from openai import OpenAI\n",
    "api_key=\"sk-xxxxxxxxxxxxxxxxxxxxxxxxxxxxxxxxxxxxxxxxxxxxxxxx\" #Enter your API Key here\n",
    "openai_client = OpenAI(api_key=api_key)"
   ]
  },
  {
   "cell_type": "markdown",
   "metadata": {},
   "source": [
    "### A function to get the GPT response using a `prompt`"
   ]
  },
  {
   "cell_type": "code",
   "execution_count": 3,
   "metadata": {},
   "outputs": [],
   "source": [
    "def get_gpt_response(prompt: str, model: str=\"gpt-3.5-turbo\") -> str:\n",
    "    try:\n",
    "        # Creating a message as required by the API\n",
    "        # \"prompt\" will be the query sent to GPT\n",
    "        messages = [{\"role\": \"system\", \"content\": \"You are a personal assistant\"},\n",
    "                    {\"role\": \"user\", \"content\": prompt}]\n",
    "        \n",
    "        # Specifying the hyperparameters\n",
    "        response = openai_client.chat.completions.create(\n",
    "        model=model,\n",
    "        messages=messages,\n",
    "        temperature=0.7)\n",
    "        \n",
    "        # Extracting the content from response structure\n",
    "        response_content = response.choices[0].message.content\n",
    "        \n",
    "        return response_content\n",
    "\n",
    "    except Exception as e:\n",
    "        print(f\"ERROR!\\n\\n {e}\")\n",
    "        return None\n",
    "        "
   ]
  },
  {
   "cell_type": "markdown",
   "metadata": {},
   "source": [
    "### Standard Prompting"
   ]
  },
  {
   "cell_type": "code",
   "execution_count": 5,
   "metadata": {},
   "outputs": [
    {
     "name": "stdout",
     "output_type": "stream",
     "text": [
      "'As of my last update, the president of the United States is Joe Biden.'\n"
     ]
    }
   ],
   "source": [
    "model=\"gpt-3.5-turbo\" #gpt-3.5-turbo, gpt-4\n",
    "prompt = '''\n",
    "Who is the president of the United States?\n",
    "'''\n",
    "\n",
    "response = get_gpt_response(prompt, model)\n",
    "print(repr(response))"
   ]
  },
  {
   "cell_type": "code",
   "execution_count": 4,
   "metadata": {},
   "outputs": [
    {
     "name": "stdout",
     "output_type": "stream",
     "text": [
      "'The cafeteria will have 9 apples.'\n"
     ]
    }
   ],
   "source": [
    "model=\"gpt-3.5-turbo\" #gpt-3.5-turbo, gpt-4\n",
    "prompt = '''\n",
    "Question: Roger has 5 tennis balls. He buys 2 more cans of tennis balls. Each can has 3 tennis balls. How many tennis balls does he have now?\n",
    "Answer: The answer is 11\n",
    "\n",
    "Question: The cafeteria had 23 apples. If they used 20 to make lunch and brought 6 more, how many apples do they have?\n",
    "Answer:\n",
    "'''\n",
    "\n",
    "response = get_gpt_response(prompt, model)\n",
    "print(repr(response))"
   ]
  },
  {
   "cell_type": "markdown",
   "metadata": {},
   "source": [
    "### Chain-of-Thought Prompting"
   ]
  },
  {
   "cell_type": "code",
   "execution_count": 6,
   "metadata": {},
   "outputs": [
    {
     "name": "stdout",
     "output_type": "stream",
     "text": [
      "'The cafeteria started with 23 apples. They used 20 for lunch, so they have 23-20=3 apples left. Then they brought 6 more apples, so they have 3+6=9 apples now. The answer is 9.'\n"
     ]
    }
   ],
   "source": [
    "model=\"gpt-3.5-turbo\" #gpt-3.5-turbo, gpt-4\n",
    "prompt = '''\n",
    "Question: Roger has 5 tennis balls. He buys 2 more cans of tennis balls. Each can has 3 tennis balls. How many tennis balls does he have now?\n",
    "Answer: Roger started with 5 balls. 2 cans of 3 tennis balls each is 6 tennis balls. 5+6=11. The answer is 11\n",
    "\n",
    "Question: The cafeteria had 23 apples. If they used 20 to make lunch and brought 6 more, how many apples do they have?\n",
    "Answer:\n",
    "'''\n",
    "\n",
    "response = get_gpt_response(prompt, model)\n",
    "print(repr(response))"
   ]
  },
  {
   "cell_type": "code",
   "execution_count": null,
   "metadata": {},
   "outputs": [],
   "source": []
  }
 ],
 "metadata": {
  "kernelspec": {
   "display_name": "deep_learning_general",
   "language": "python",
   "name": "python3"
  },
  "language_info": {
   "codemirror_mode": {
    "name": "ipython",
    "version": 3
   },
   "file_extension": ".py",
   "mimetype": "text/x-python",
   "name": "python",
   "nbconvert_exporter": "python",
   "pygments_lexer": "ipython3",
   "version": "3.11.5"
  }
 },
 "nbformat": 4,
 "nbformat_minor": 2
}

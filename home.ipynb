{
 "cells": [
  {
   "attachments": {},
   "cell_type": "markdown",
   "metadata": {},
   "source": [
    "### contents\n"
   ]
  },
  {
   "cell_type": "markdown",
   "metadata": {},
   "source": [
    "\n",
    "## Financial Data Science\n",
    "\n",
    "_FinDS_ Python package and applications, for maintaining large structured and unstructured financial data sets, and exploring data science and machine learning methods:\n",
    "\n",
    "1. [Online Jupyter-book](https://terence-lim.github.io/finds-notebooks/), or [download pdf](https://terence-lim.github.io/notes/financial-data-science.pdf)\n",
    "\n",
    "2. [FinDS API reference](https://terence-lim.github.io/finds/)\n",
    "\n",
    "3. [FinDS repo](https://github.com/terence-lim/financial-data-science)\n",
    "\n",
    "4. [Jupyter notebooks repo](https://github.com/terence-lim/data-science-notebooks)\n",
    "\n"
   ]
  },
  {
   "attachments": {},
   "cell_type": "markdown",
   "metadata": {},
   "source": [
    "## Solving Actuarial Math with Python\n",
    "\n",
    "The _actuarialmath_ Python package implements fundamental methods for modeling life contingent risks, and closely follows traditional topics covered in actuarial exams and standard texts such as the \"Fundamentals of Actuarial Math - Long-term\" exam syllabus by the Society of Actuaries, and \"Actuarial Mathematics for Life Contingent Risks\" by Dickson, Hardy and Waters.\n",
    "\n",
    "__Installation__\n",
    "\n",
    "`pip install actuarialmath`\n",
    "\n",
    "\n",
    "__Resources__\n",
    "\n",
    "1. [Jupyter notebook](https://terence-lim.github.io/notes/faml.ipynb), or [run in Colab](https://colab.research.google.com/github/terence-lim/terence-lim.github.io/blob/master/notes/faml.ipynb), to solve all sample SOA FAM-L exam questions\n",
    "\n",
    "2. [User Guide](https://actuarialmath-guide.readthedocs.io/en/latest/), or [download pdf](https://terence-lim.github.io/notes/actuarialmath-guide.pdf)\n",
    "\n",
    "3. [API reference](https://actuarialmath.readthedocs.io/en/latest/)\n",
    "\n",
    "4. [Github repo](https://github.com/terence-lim/actuarialmath.git) and [issues](https://github.com/terence-lim/actuarialmath/issues)\n",
    "\n",
    "\n"
   ]
  },
  {
   "attachments": {},
   "cell_type": "markdown",
   "metadata": {},
   "source": [
    "## Review Notes\n",
    "\n",
    "motivated by:\n",
    "\n",
    "- FDP syllabus (CAIA Association): <https://terence-lim.github.io/notes/FDP.pdf>\n",
    "\n",
    "- SRM/PA syllabus (Society of Actuaries): <https://terence-lim.github.io/notes/SRM.pdf>\n",
    "\n",
    "\n"
   ]
  },
  {
   "attachments": {},
   "cell_type": "markdown",
   "metadata": {},
   "source": [
    "## OCaml LLVM Project\n",
    "\n",
    "- MINIMAT Matrix Language: <https://github.com/terence-lim/minimat>\n",
    "\n",
    "\n",
    "MIT License\n",
    "\n",
    "Copyright 2022-2023, by [Terence Lim](https://www.linkedin.com/in/terencelim)\n"
   ]
  }
 ],
 "metadata": {
  "language_info": {
   "name": "python"
  },
  "orig_nbformat": 4
 },
 "nbformat": 4,
 "nbformat_minor": 2
}

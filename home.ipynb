{
 "cells": [
  {
   "cell_type": "markdown",
   "metadata": {},
   "source": [
    "\n",
    "## Terence's Repos\n",
    "\n",
    "# Financial Data Science\n",
    "\n",
    "Code library and examples in Python, for retrieving and manipulating structured and unstructured financial data sets, and exploring data science and machine learning methods: <https://github.com/terence-lim/financial-data-science>\n",
    "\n",
    "1. *FinDS* package: <https://github.com/terence-lim/financial-data-science.git>\n",
    "\n",
    "2. Exercises in Python: <https://github.com/terence-lim/financial-data-science/tree/master/examples>\n",
    "\n",
    "3. Documentation in sphinx html: <https://terence-lim.github.io/financial-data-science-docs/>\n",
    "\n",
    "\n",
    "# Solving Actuarial Math with Python\n",
    "\n",
    "Life Contingent Risks: Implements the general formulas and shortcut equations for solving the SOA FAM-L sample exam questions, and more, in Python.\n",
    "\n",
    "1. Executable Colab Notebook: [actuarialmath.ipynb](https://colab.research.google.com/drive/1qguTCMQSk0m273IHApXA7IpUJwSoKEb-?usp=sharing)\n",
    "\n",
    "2. Documentation and formulas: https://terence-lim.github.io/notes/actuarialmath.pdf\n",
    "\n",
    "3. Github repo: https://github.com/terence-lim/actuarialmath.git/\n",
    "\n",
    "# Review Notes\n",
    "\n",
    "motivated by:\n",
    "\n",
    "- FDP syllabus (CAIA Association): <https://terence-lim.github.io/notes/FDP.pdf>\n",
    "\n",
    "- SRM/PA syllabus (Society of Actuaries): <https://terence-lim.github.io/notes/SRM.pdf>\n",
    "\n",
    "\n",
    "# OCaml LLVM Project\n",
    "\n",
    "- MINIMAT Matrix Language: <https://github.com/terence-lim/minimat>\n",
    "\n",
    "\n",
    "Copyright 2022, by [Terence Lim](https://www.linkedin.com/in/terencelim)\n",
    "\n",
    "MIT License"
   ]
  }
 ],
 "metadata": {
  "language_info": {
   "name": "python"
  },
  "orig_nbformat": 4
 },
 "nbformat": 4,
 "nbformat_minor": 2
}

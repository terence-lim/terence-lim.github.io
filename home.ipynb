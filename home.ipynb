{
 "cells": [
  {
   "attachments": {},
   "cell_type": "markdown",
   "metadata": {},
   "source": [
    "### Contact\n",
    "\n",
    "[https://www.linkedin.com/in/terencelim](https://www.linkedin.com/in/terencelim)"
   ]
  },
  {
   "cell_type": "markdown",
   "metadata": {},
   "source": [
    "# 1. Financial Data Science\n",
    "\n",
    "As financial markets produce vast volumes of structured and unstructured data,\n",
    "the ability to extract insights and develop predictive models has become increasingly important.\n",
    "[Financial Data Science Python Notebooks](https://terence-lim.github.io/docs/financial-data-science-notebooks/)\n",
    "provide a practical guide for analysts, researchers, and data scientists looking to apply Python\n",
    "and its broad ecosystem of libraries, tools, frameworks, and community resources\n",
    "to financial analysis, econometrics, and machine learning.\n",
    "\n",
    "Designed to support financial data science workflows,\n",
    "the companion [FinDS Python package](https://github.com/terence-lim/financial-data-science)\n",
    "demonstrates how to use database engines such as SQL, Redis, and MongoDB to manage and access large datasets, including:\n",
    "\n",
    "- Core financial databases such as CRSP, Compustat, IBES, and TAQ\n",
    "\n",
    "- Public economic data APIs from sources like FRED and the Bureau of Economic Analysis (BEA)\n",
    "\n",
    "- Structured and unstructured data from academic and research websites\n",
    "\n",
    "In addition to data access, it provides practical examples and templates for applying:\n",
    "\n",
    "- Financial econometrics and time series modeling\n",
    "\n",
    "- Graph analytics, event studies, and backtesting strategies\n",
    "\n",
    "- Machine learning for predictive analytics\n",
    "\n",
    "- Natural language processing (NLP) to extract insights from financial text\n",
    "\n",
    "- Neural networks and large language models (LLMs) for advanced decision-making\n",
    "\n",
    "\n",
    "**March 2025:** Updated with data through early 2025 and incorporated the latest LLMs -- Microsoft Phi-4-multimodal (released Feb 2025), Google Gemma-3-12B (March 2025), DeepSeek-R1-14b (January 2025), Meta Llama-3.1-8B (July 2024), GPT-4o-mini (July 2024).\n",
    "\n",
    "\n",
    "**Documentation**\n",
    "\n",
    "- [Financial Data Science Notebooks](https://terence-lim.github.io/docs/financial-data-science-notebooks/)\n",
    "\n",
    "- [Download PDF](https://terence-lim.github.io/docs/financial-data-science-notebooks.pdf)\n",
    "\n",
    "- [FinDS API reference](https://terence-lim.github.io/docs/financial-data-science/)\n",
    "\n",
    "\n",
    "**Github repos**\n",
    "\n",
    "- [FinDS package](https://github.com/terence-lim/financial-data-science)\n",
    "\n",
    "- [Jupyter notebooks](https://github.com/terence-lim/financial-data-science-notebooks)\n"
   ]
  },
  {
   "attachments": {},
   "cell_type": "markdown",
   "metadata": {},
   "source": [
    "# 2. Solving Actuarial Math with Python\n",
    "\n",
    "The _actuarialmath_ Python package implements fundamental methods for modeling life contingent risks, and closely follows traditional topics covered in actuarial exams and standard texts such as the \"Fundamentals of Actuarial Math - Long-term\" exam syllabus by the Society of Actuaries, and \"Actuarial Mathematics for Life Contingent Risks\" by Dickson, Hardy and Waters.\n",
    "\n",
    "__Installation__\n",
    "\n",
    "`pip install actuarialmath`\n",
    "\n",
    "\n",
    "__Resources__\n",
    "\n",
    "- [Jupyter notebook](https://terence-lim.github.io/notes/faml.ipynb), or [run in Colab](https://colab.research.google.com/github/terence-lim/terence-lim.github.io/blob/master/notes/faml.ipynb), to solve all sample SOA FAM-L exam questions\n",
    "\n",
    "- [User Guide](https://actuarialmath-guide.readthedocs.io/en/latest/), or [download pdf](https://terence-lim.github.io/notes/actuarialmath-guide.pdf)\n",
    "\n",
    "- [API reference](https://actuarialmath.readthedocs.io/en/latest/)\n",
    "\n",
    "- [Github repo](https://github.com/terence-lim/actuarialmath.git) and [issues](https://github.com/terence-lim/actuarialmath/issues)\n",
    "\n",
    "\n"
   ]
  },
  {
   "attachments": {},
   "cell_type": "markdown",
   "metadata": {},
   "source": [
    "# 3. OCaml LLVM\n",
    "\n",
    "MINIMAT Matrix Language: <https://github.com/terence-lim/minimat>\n"
   ]
  },
  {
   "attachments": {},
   "cell_type": "markdown",
   "metadata": {},
   "source": [
    "# 4. Miscellaneous\n",
    "\n",
    "Review notes motivated by:\n",
    "\n",
    "- FDP syllabus (CAIA Association): <https://terence-lim.github.io/notes/FDP.pdf>\n",
    "\n",
    "- SRM/PA syllabus (Society of Actuaries): <https://terence-lim.github.io/notes/SRM.pdf>\n"
   ]
  }
 ],
 "metadata": {
  "language_info": {
   "name": "python"
  },
  "orig_nbformat": 4
 },
 "nbformat": 4,
 "nbformat_minor": 2
}

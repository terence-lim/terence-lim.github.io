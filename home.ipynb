{
 "cells": [
  {
   "cell_type": "markdown",
   "metadata": {},
   "source": [
    "\n",
    "## Terence's Repos\n",
    "\n",
    "# Financial Data Science\n",
    "\n",
    "Code library and examples in python, for retrieving and manipulating structured and unstructured financial data sets, and exploring data science and machine learning methods: <https://github.com/terence-lim/financial-data-science>\n",
    "\n",
    "1. *FINDS* package: <https://github.com/terence-lim/financial-data-science/tree/master/finds>\n",
    "\n",
    "2. Exercises in python: <https://github.com/terence-lim/financial-data-science/tree/master/examples>\n",
    "\n",
    "3. Documentation in sphinx-format: <https://terence-lim.github.io/financial-data-science-docs/>\n",
    "\n",
    "\n",
    "\n",
    "# Review Notes\n",
    "\n",
    "motivated by:\n",
    "\n",
    "- FDP syllabus (CAIA Association): <https://terence-lim.github.io/notes/FDP.pdf>\n",
    "\n",
    "- SRM syllabus (Society of Actuaries): <https://terence-lim.github.io/notes/SRM.pdf>\n",
    "\n",
    "\n",
    "# OCaml LLVM Project\n",
    "\n",
    "- MINIMAT Matrix Language: <https://github.com/terence-lim/minimat>\n",
    "\n",
    "\n",
    "Copyright 2022, by [Terence Lim](https://www.linkedin.com/in/terencelim)\n",
    "\n",
    "MIT License"
   ]
  }
 ],
 "metadata": {
  "language_info": {
   "name": "python"
  },
  "orig_nbformat": 4
 },
 "nbformat": 4,
 "nbformat_minor": 2
}

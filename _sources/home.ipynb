{
 "cells": [
  {
   "attachments": {},
   "cell_type": "markdown",
   "metadata": {},
   "source": [
    "\n",
    "## Terence's Repos\n",
    "\n",
    "# Financial Data Science\n",
    "\n",
    "Code library and applications in Python, for retrieving and manipulating structured and unstructured financial data sets, and exploring data science and machine learning methods: <https://github.com/terence-lim/financial-data-science>\n",
    "\n",
    "1. *FinDS* package: <https://github.com/terence-lim/financial-data-science.git>\n",
    "\n",
    "2. Applications in Python: <https://github.com/terence-lim/financial-data-science/tree/master/examples>\n",
    "\n",
    "3. Code Documentation: <https://terence-lim.github.io/financial-data-science-docs/>\n",
    "\n",
    "\n"
   ]
  },
  {
   "attachments": {},
   "cell_type": "markdown",
   "metadata": {},
   "source": [
    "# Solving Actuarial Math with Python\n",
    "\n",
    "This package implements fundamental methods for modeling life contingent risks, and closely follows traditional topics covered in actuarial exams and standard texts such as the \"Fundamentals of Actuarial Math - Long-term\" exam syllabus by the Society of Actuaries, and \"Actuarial Mathematics for Life Contingent Risks\" by Dickson, Hardy and Waters.\n",
    "\n",
    "__Installation__\n",
    "\n",
    "`pip install actuarialmath`\n",
    "\n",
    "\n",
    "__Resources__\n",
    "\n",
    "1. [Colab](https://colab.research.google.com/drive/1TcNr1x5HbT2fF3iFMYGXdN_cvRKiSua4?usp=sharing) or [Jupyter notebook](https://terence-lim.github.io/notes/faml.ipynb), to solve all sample SOA FAM-L exam questions\n",
    "\n",
    "2. [Online tutorial](https://terence-lim.github.io/actuarialmath-tutorial/), or [download pdf](https://terence-lim.github.io/notes/actuarialmath-tutorial.pdf)\n",
    "\n",
    "3. [Code documentation](https://actuarialmath.readthedocs.io/en/latest/)\n",
    "\n",
    "4. [Github repo](https://github.com/terence-lim/actuarialmath.git) and [issues](https://github.com/terence-lim/actuarialmath/issues)\n",
    "\n",
    "\n",
    "# Review Notes\n",
    "\n",
    "motivated by:\n",
    "\n",
    "- FDP syllabus (CAIA Association): <https://terence-lim.github.io/notes/FDP.pdf>\n",
    "\n",
    "- SRM/PA syllabus (Society of Actuaries): <https://terence-lim.github.io/notes/SRM.pdf>\n",
    "\n",
    "\n",
    "# OCaml LLVM Project\n",
    "\n",
    "- MINIMAT Matrix Language: <https://github.com/terence-lim/minimat>\n",
    "\n",
    "\n",
    "MIT License\n",
    "\n",
    "Copyright 2022-2023, by [Terence Lim](https://www.linkedin.com/in/terencelim)\n"
   ]
  }
 ],
 "metadata": {
  "language_info": {
   "name": "python"
  },
  "orig_nbformat": 4
 },
 "nbformat": 4,
 "nbformat_minor": 2
}

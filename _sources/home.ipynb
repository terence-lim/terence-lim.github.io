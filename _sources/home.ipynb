{
 "cells": [
  {
   "cell_type": "markdown",
   "metadata": {},
   "source": [
    "\n",
    "# Financial Data Science\n",
    "\n",
    "Code library and examples in python, for retrieving and manipulating structured and unstructured financial data sets, and exploring data science and machine learning methods: <https://github.com/terence-lim/financial-data-science>\n",
    "\n",
    "1. *finds* library: <https://github.com/terence-lim/financial-data-science/finds>\n",
    "\n",
    "2. exercises in python: <https://github.com/terence-lim/financial-data-science/examples>\n",
    "\n",
    "3. documentation in sphinx-format: <https://terence-lim.github.io/financial-data-science-docs/>\n",
    "\n",
    "\n",
    "\n",
    "# Review Notes\n",
    "\n",
    "motivated by:\n",
    "\n",
    "- FDP syllabus (CAIA Association): <https://terence-lim.github.io/notes/FDP.pdf>\n",
    "\n",
    "- SRM syllabus (Society of Actuaries): <https://terence-lim.github.io/notes/SRM.pdf>\n",
    "\n",
    "\n",
    "\n",
    "\n",
    "Copyright 2022, by [Terence Lim](https://www.linkedin.com/in/terencelim)\n",
    "\n",
    "MIT License"
   ]
  }
 ],
 "metadata": {
  "language_info": {
   "name": "python"
  },
  "orig_nbformat": 4
 },
 "nbformat": 4,
 "nbformat_minor": 2
}
